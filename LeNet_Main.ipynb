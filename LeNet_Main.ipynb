{
 "cells": [
  {
   "cell_type": "code",
   "execution_count": 3,
   "metadata": {
    "colab": {
     "base_uri": "https://localhost:8080/",
     "height": 34
    },
    "colab_type": "code",
    "executionInfo": {
     "elapsed": 2688,
     "status": "ok",
     "timestamp": 1588159847353,
     "user": {
      "displayName": "google colab",
      "photoUrl": "",
      "userId": "06439635405616390316"
     },
     "user_tz": -330
    },
    "id": "Ym6DZ9FjrsSF",
    "outputId": "fc240855-83d0-48a1-e932-e76ae46a2247"
   },
   "outputs": [
    {
     "name": "stderr",
     "output_type": "stream",
     "text": [
      "Using TensorFlow backend.\n"
     ]
    }
   ],
   "source": [
    "########## Ignoring the warnings ##################\n",
    "import warnings\n",
    "warnings.filterwarnings(\"ignore\")\n",
    "######### Importing necessary libraries to built LeNet Model ########################\n",
    "import keras\n",
    "from keras.datasets import mnist\n",
    "from keras.layers import Conv2D, MaxPooling2D, AveragePooling2D\n",
    "from keras.layers import Dense, Flatten\n",
    "from keras.models import Sequential\n",
    "from keras.models import load_model\n",
    "from keras.metrics import categorical_crossentropy\n",
    "from keras.optimizers import Adam , SGD"
   ]
  },
  {
   "cell_type": "code",
   "execution_count": 0,
   "metadata": {
    "colab": {},
    "colab_type": "code",
    "id": "wkhr0_FPrmfW"
   },
   "outputs": [],
   "source": [
    "import matplotlib.pyplot as plt\n",
    "import numpy as np"
   ]
  },
  {
   "cell_type": "code",
   "execution_count": 5,
   "metadata": {
    "colab": {
     "base_uri": "https://localhost:8080/",
     "height": 84
    },
    "colab_type": "code",
    "executionInfo": {
     "elapsed": 9658,
     "status": "ok",
     "timestamp": 1588159857470,
     "user": {
      "displayName": "google colab",
      "photoUrl": "",
      "userId": "06439635405616390316"
     },
     "user_tz": -330
    },
    "id": "kHUf2mdhrmfd",
    "outputId": "e957cd6d-54cd-4d79-ee64-088492b460a8"
   },
   "outputs": [
    {
     "name": "stdout",
     "output_type": "stream",
     "text": [
      "Downloading data from https://s3.amazonaws.com/img-datasets/mnist.npz\n",
      "11493376/11490434 [==============================] - 1s 0us/step\n",
      "xtrain, ytrain shape:((60000, 28, 28), (60000,))\n",
      "xtest, ytest shape:((10000, 28, 28), (10000,))\n"
     ]
    }
   ],
   "source": [
    "########### Loading mnist dataset(handwritten digits) ##########################\n",
    "(X_train, y_train), (X_test, y_test)= mnist.load_data()\n",
    "\n",
    "##### Or If you have in your local system then ########################3\n",
    "# def load_data(path):\n",
    "#     with np.load(path) as f:\n",
    "#         x_train, y_train = f['x_train'], f['y_train']\n",
    "#         x_test, y_test = f['x_test'], f['y_test']\n",
    "#         return (x_train, y_train), (x_test, y_test)\n",
    "\n",
    "# (X_train, y_train), (X_test, y_test) = load_data('mnist.npz')\n",
    "\n",
    "print('xtrain, ytrain shape:', (np.shape(X_train), np.shape(y_train)), '\\n', 'xtest, ytest shape:', (np.shape(X_test), np.shape(y_test)),sep='')"
   ]
  },
  {
   "cell_type": "markdown",
   "metadata": {
    "colab_type": "text",
    "id": "KudqgOf9rmfj"
   },
   "source": [
    "#### Here, we have 60000 handwritten images for training and 10000 handwritten images for testing\n",
    "#### Let's how its look like"
   ]
  },
  {
   "cell_type": "code",
   "execution_count": 6,
   "metadata": {
    "colab": {
     "base_uri": "https://localhost:8080/",
     "height": 282
    },
    "colab_type": "code",
    "executionInfo": {
     "elapsed": 3733,
     "status": "ok",
     "timestamp": 1588159864501,
     "user": {
      "displayName": "google colab",
      "photoUrl": "",
      "userId": "06439635405616390316"
     },
     "user_tz": -330
    },
    "id": "kQLkNQahrmfk",
    "outputId": "30039807-26d8-4d15-c022-a34efec68716"
   },
   "outputs": [
    {
     "data": {
      "text/plain": [
       "<matplotlib.image.AxesImage at 0x7fd0f3773d68>"
      ]
     },
     "execution_count": 6,
     "metadata": {
      "tags": []
     },
     "output_type": "execute_result"
    },
    {
     "data": {
      "image/png": "[encoded data removed]",
      "text/plain": [
       "<Figure size 432x288 with 1 Axes>"
      ]
     },
     "metadata": {
      "needs_background": "light",
      "tags": []
     },
     "output_type": "display_data"
    }
   ],
   "source": [
    "plt.imshow(X_train[5])"
   ]
  },
  {
   "cell_type": "markdown",
   "metadata": {
    "colab_type": "text",
    "id": "Umt4XjkUrmfo"
   },
   "source": [
    "#### The above handwritten image is of 2 and size is 25x25"
   ]
  },
  {
   "cell_type": "code",
   "execution_count": 0,
   "metadata": {
    "colab": {},
    "colab_type": "code",
    "id": "OtpoCl41rmfq"
   },
   "outputs": [],
   "source": [
    "###### Performing Normalization ##########\n",
    "X_train = X_train / 255\n",
    "X_test = X_test / 255"
   ]
  },
  {
   "cell_type": "code",
   "execution_count": 0,
   "metadata": {
    "colab": {},
    "colab_type": "code",
    "id": "Z2Gl7xeormfw"
   },
   "outputs": [],
   "source": [
    "###### Performing Normalization ##########\n",
    "X_train = np.reshape(X_train,(X_train.shape[0],28,28,1))\n",
    "X_test = np.reshape(X_test,(X_test.shape[0],28,28,1))"
   ]
  },
  {
   "cell_type": "code",
   "execution_count": 9,
   "metadata": {
    "colab": {
     "base_uri": "https://localhost:8080/",
     "height": 50
    },
    "colab_type": "code",
    "executionInfo": {
     "elapsed": 752,
     "status": "ok",
     "timestamp": 1588159869952,
     "user": {
      "displayName": "google colab",
      "photoUrl": "",
      "userId": "06439635405616390316"
     },
     "user_tz": -330
    },
    "id": "h7Dm9me3rmfz",
    "outputId": "0a9556c2-792d-4946-f207-c23cec9b031a"
   },
   "outputs": [
    {
     "name": "stdout",
     "output_type": "stream",
     "text": [
      "[0 1 2 3 4 5 6 7 8 9]\n",
      "classes 10\n"
     ]
    }
   ],
   "source": [
    "print(np.unique(y_train))\n",
    "classes=len(np.unique(y_train))\n",
    "print('classes',len(np.unique(y_train)))"
   ]
  },
  {
   "cell_type": "code",
   "execution_count": 10,
   "metadata": {
    "colab": {
     "base_uri": "https://localhost:8080/",
     "height": 50
    },
    "colab_type": "code",
    "executionInfo": {
     "elapsed": 1225,
     "status": "ok",
     "timestamp": 1588159873360,
     "user": {
      "displayName": "google colab",
      "photoUrl": "",
      "userId": "06439635405616390316"
     },
     "user_tz": -330
    },
    "id": "zCDW2qiyrmf6",
    "outputId": "8cb8c915-255c-4bda-f2e7-c2a944cf5699"
   },
   "outputs": [
    {
     "name": "stdout",
     "output_type": "stream",
     "text": [
      "ytrain shape:(60000, 10)\n",
      "ytest shape:(10000, 10)\n"
     ]
    }
   ],
   "source": [
    "############ One Hot Encoding for targer column #################\n",
    "y_train = keras.utils.to_categorical(y_train, classes)\n",
    "y_test = keras.utils.to_categorical(y_test, classes)\n",
    "print('ytrain shape:', np.shape(y_train), '\\n', 'ytest shape:', np.shape(y_test),sep='')"
   ]
  },
  {
   "cell_type": "code",
   "execution_count": 11,
   "metadata": {
    "colab": {
     "base_uri": "https://localhost:8080/",
     "height": 50
    },
    "colab_type": "code",
    "executionInfo": {
     "elapsed": 1134,
     "status": "ok",
     "timestamp": 1588159875391,
     "user": {
      "displayName": "google colab",
      "photoUrl": "",
      "userId": "06439635405616390316"
     },
     "user_tz": -330
    },
    "id": "iqp5gmlMrmgB",
    "outputId": "de0fbfa9-c352-416c-a981-2736af6a6f23"
   },
   "outputs": [
    {
     "name": "stdout",
     "output_type": "stream",
     "text": [
      "xtrain, ytrain shape:((60000, 28, 28, 1), (60000, 10))\n",
      "xtest, ytest shape:((10000, 28, 28, 1), (10000, 10))\n"
     ]
    }
   ],
   "source": [
    "print('xtrain, ytrain shape:', (np.shape(X_train), np.shape(y_train)), '\\n', 'xtest, ytest shape:', (np.shape(X_test), np.shape(y_test)),sep='')"
   ]
  },
  {
   "cell_type": "markdown",
   "metadata": {
    "colab_type": "text",
    "id": "mF51hRXBrmgF"
   },
   "source": [
    "#### 1) Orignal LeNet"
   ]
  },
  {
   "cell_type": "code",
   "execution_count": 12,
   "metadata": {
    "colab": {
     "base_uri": "https://localhost:8080/",
     "height": 420
    },
    "colab_type": "code",
    "executionInfo": {
     "elapsed": 9697,
     "status": "ok",
     "timestamp": 1588159886951,
     "user": {
      "displayName": "google colab",
      "photoUrl": "",
      "userId": "06439635405616390316"
     },
     "user_tz": -330
    },
    "id": "lJ4H_UMZrmgG",
    "outputId": "ae760d44-ded6-49af-d750-a4091e0a2c20"
   },
   "outputs": [
    {
     "name": "stdout",
     "output_type": "stream",
     "text": [
      "Model: \"sequential_1\"\n",
      "_________________________________________________________________\n",
      "Layer (type)                 Output Shape              Param #   \n",
      "=================================================================\n",
      "conv2d_1 (Conv2D)            (None, 24, 24, 6)         156       \n",
      "_________________________________________________________________\n",
      "average_pooling2d_1 (Average (None, 23, 23, 6)         0         \n",
      "_________________________________________________________________\n",
      "conv2d_2 (Conv2D)            (None, 19, 19, 16)        2416      \n",
      "_________________________________________________________________\n",
      "average_pooling2d_2 (Average (None, 9, 9, 16)          0         \n",
      "_________________________________________________________________\n",
      "conv2d_3 (Conv2D)            (None, 5, 5, 120)         48120     \n",
      "_________________________________________________________________\n",
      "flatten_1 (Flatten)          (None, 3000)              0         \n",
      "_________________________________________________________________\n",
      "dense_1 (Dense)              (None, 84)                252084    \n",
      "_________________________________________________________________\n",
      "dense_2 (Dense)              (None, 10)                850       \n",
      "=================================================================\n",
      "Total params: 303,626\n",
      "Trainable params: 303,626\n",
      "Non-trainable params: 0\n",
      "_________________________________________________________________\n"
     ]
    }
   ],
   "source": [
    "########### Creating sequential model of Orignal LeNet ##########################\n",
    "#Instantiate an empty model\n",
    "model = Sequential()\n",
    "\n",
    "# C1 Convolutional Layer\n",
    "model.add(Conv2D(6, kernel_size=(5, 5), strides=(1, 1), activation='tanh', input_shape=(28,28,1)))\n",
    "\n",
    "# P2 Pooling Layer\n",
    "model.add(AveragePooling2D(pool_size=(2, 2), strides=(1, 1)))\n",
    "\n",
    "# C3 Convolutional Layer\n",
    "model.add(Conv2D(16, kernel_size=(5, 5), strides=(1, 1), activation='tanh'))\n",
    "\n",
    "# P4 Pooling Layer\n",
    "model.add(AveragePooling2D(pool_size=(2, 2), strides=(2, 2)))\n",
    "\n",
    "# C5 Fully Connected Convolutional Layer\n",
    "model.add(Conv2D(120, kernel_size=(5, 5), strides=(1, 1), activation='tanh'))\n",
    "\n",
    "#Flatten the CNN output so that we can connect it with fully connected layers\n",
    "model.add(Flatten())\n",
    "\n",
    "# FC6 Fully Connected Layer\n",
    "model.add(Dense(84, activation='tanh'))\n",
    "\n",
    "#Output Layer with softmax activation\n",
    "model.add(Dense(10, activation='softmax'))\n",
    "\n",
    "# Compile the model\n",
    "model.compile(optimizer=SGD(),loss=categorical_crossentropy,metrics=['accuracy'])\n",
    "\n",
    "# Model Summary\n",
    "model.summary()"
   ]
  },
  {
   "cell_type": "markdown",
   "metadata": {
    "colab_type": "text",
    "id": "FPQofG-YrmgL"
   },
   "source": [
    "![lenet1](img/summaryLeNet.jpg)"
   ]
  },
  {
   "cell_type": "code",
   "execution_count": 27,
   "metadata": {
    "colab": {
     "base_uri": "https://localhost:8080/",
     "height": 370
    },
    "colab_type": "code",
    "executionInfo": {
     "elapsed": 32583,
     "status": "ok",
     "timestamp": 1588164342888,
     "user": {
      "displayName": "google colab",
      "photoUrl": "",
      "userId": "06439635405616390316"
     },
     "user_tz": -330
    },
    "id": "vRaHWNhtrmgN",
    "outputId": "0713179c-883b-4d8d-f739-bd33fcd5ff88"
   },
   "outputs": [
    {
     "name": "stdout",
     "output_type": "stream",
     "text": [
      "Train on 60000 samples, validate on 10000 samples\n",
      "Epoch 1/10\n",
      " - 2s - loss: 0.0744 - accuracy: 0.9793 - val_loss: 0.0734 - val_accuracy: 0.9789\n",
      "Epoch 2/10\n",
      " - 2s - loss: 0.0710 - accuracy: 0.9801 - val_loss: 0.0700 - val_accuracy: 0.9791\n",
      "Epoch 3/10\n",
      " - 2s - loss: 0.0682 - accuracy: 0.9810 - val_loss: 0.0692 - val_accuracy: 0.9800\n",
      "Epoch 4/10\n",
      " - 2s - loss: 0.0656 - accuracy: 0.9816 - val_loss: 0.0660 - val_accuracy: 0.9802\n",
      "Epoch 5/10\n",
      " - 2s - loss: 0.0629 - accuracy: 0.9827 - val_loss: 0.0646 - val_accuracy: 0.9807\n",
      "Epoch 6/10\n",
      " - 2s - loss: 0.0605 - accuracy: 0.9834 - val_loss: 0.0617 - val_accuracy: 0.9811\n",
      "Epoch 7/10\n",
      " - 2s - loss: 0.0582 - accuracy: 0.9842 - val_loss: 0.0605 - val_accuracy: 0.9810\n",
      "Epoch 8/10\n",
      " - 2s - loss: 0.0563 - accuracy: 0.9844 - val_loss: 0.0599 - val_accuracy: 0.9805\n",
      "Epoch 9/10\n",
      " - 2s - loss: 0.0544 - accuracy: 0.9849 - val_loss: 0.0576 - val_accuracy: 0.9822\n",
      "Epoch 10/10\n",
      " - 2s - loss: 0.0526 - accuracy: 0.9853 - val_loss: 0.0582 - val_accuracy: 0.9816\n"
     ]
    }
   ],
   "source": [
    "# model.fit(X_train,y_train,batch_size=128,epochs=20,verbose=3)\n",
    "history = model.fit(x=X_train,y=y_train, epochs=10, batch_size=128, validation_data=(X_test, y_test), verbose=2)"
   ]
  },
  {
   "cell_type": "code",
   "execution_count": 31,
   "metadata": {
    "colab": {
     "base_uri": "https://localhost:8080/",
     "height": 34
    },
    "colab_type": "code",
    "executionInfo": {
     "elapsed": 1589,
     "status": "ok",
     "timestamp": 1588164603518,
     "user": {
      "displayName": "google colab",
      "photoUrl": "",
      "userId": "06439635405616390316"
     },
     "user_tz": -330
    },
    "id": "wCtHzw57rmgT",
    "outputId": "3190a6e5-5a5c-4d90-cc75-91861cf41cf4"
   },
   "outputs": [
    {
     "name": "stdout",
     "output_type": "stream",
     "text": [
      "Test loss 0.0764, accuracy 97.86%\n"
     ]
    }
   ],
   "source": [
    "score = model.evaluate(X_test, y_test)\n",
    "# print('Test Loss:', score[0])\n",
    "# print('Test accuracy:', score[1])\n",
    "\n",
    "print(\"Test loss {:.4f}, accuracy {:.2f}%\".format(score[0], score[1] * 100))"
   ]
  },
  {
   "cell_type": "code",
   "execution_count": 0,
   "metadata": {
    "colab": {},
    "colab_type": "code",
    "id": "Mi6kTVGWvHQt"
   },
   "outputs": [],
   "source": [
    "import pickle\n",
    "filehandler = open(\"historyLenet.pkl\",\"wb\")\n",
    "pickle.dump(history,filehandler)\n",
    "filehandler.close()\n",
    "model.save_weights(\"LeNet_Mnist_model.hdf5\")"
   ]
  },
  {
   "cell_type": "code",
   "execution_count": 0,
   "metadata": {
    "colab": {},
    "colab_type": "code",
    "id": "uF_NLi6KwI-F"
   },
   "outputs": [],
   "source": [
    "# from keras.models import load_model\n",
    "# model=load_model(\"LeNet_Mnist_model.h5\")"
   ]
  },
  {
   "cell_type": "code",
   "execution_count": 34,
   "metadata": {
    "colab": {
     "base_uri": "https://localhost:8080/",
     "height": 84
    },
    "colab_type": "code",
    "executionInfo": {
     "elapsed": 1377,
     "status": "ok",
     "timestamp": 1588164801550,
     "user": {
      "displayName": "google colab",
      "photoUrl": "",
      "userId": "06439635405616390316"
     },
     "user_tz": -330
    },
    "id": "eUer75Je_yaO",
    "outputId": "41b5acc3-cb8b-407b-cc72-5f53fa143f4e"
   },
   "outputs": [
    {
     "name": "stdout",
     "output_type": "stream",
     "text": [
      "val_loss\n",
      "val_accuracy\n",
      "loss\n",
      "accuracy\n"
     ]
    }
   ],
   "source": [
    "for i in history.history:\n",
    "    print(i)"
   ]
  },
  {
   "cell_type": "code",
   "execution_count": 50,
   "metadata": {
    "colab": {
     "base_uri": "https://localhost:8080/",
     "height": 350
    },
    "colab_type": "code",
    "executionInfo": {
     "elapsed": 1457,
     "status": "ok",
     "timestamp": 1588165699923,
     "user": {
      "displayName": "google colab",
      "photoUrl": "",
      "userId": "06439635405616390316"
     },
     "user_tz": -330
    },
    "id": "Y4YisPWhrmgY",
    "outputId": "97bce905-8a6f-4fbd-956c-50bf546aa61d"
   },
   "outputs": [
    {
     "data": {
      "image/png": "[encoded data removed]",
      "text/plain": [
       "<Figure size 720x360 with 2 Axes>"
      ]
     },
     "metadata": {
      "needs_background": "light",
      "tags": []
     },
     "output_type": "display_data"
    }
   ],
   "source": [
    "def plot_accuracy_loss(history):\n",
    "    fig = plt.figure(figsize=(10,5))\n",
    " \n",
    "    plt.subplot(1, 2, 1)\n",
    "    plt.plot(history.history['accuracy'],'-o')\n",
    "    plt.plot(history.history['val_accuracy'],'-*')\n",
    "    plt.title('model accuracy')\n",
    "    plt.ylabel('accuracy')\n",
    "    plt.xlabel('epoch')\n",
    "    plt.legend(['train', 'validation'], loc='upper left')\n",
    "    # plt.ylim([0, 1])\n",
    " \n",
    "    plt.subplot(1, 2, 2)\n",
    "    plt.plot(history.history['loss'],'-o')\n",
    "    plt.plot(history.history['val_loss'],'-*')\n",
    "    plt.title('model loss')\n",
    "    plt.ylabel('loss')\n",
    "    plt.xlabel('epoch')\n",
    "    plt.legend(['train', 'test'], loc='upper right')\n",
    "    plt.show()\n",
    " \n",
    "plot_accuracy_loss(history)"
   ]
  },
  {
   "cell_type": "code",
   "execution_count": 0,
   "metadata": {
    "colab": {},
    "colab_type": "code",
    "id": "SUEGwvnrrmgb"
   },
   "outputs": [],
   "source": []
  },
  {
   "cell_type": "markdown",
   "metadata": {
    "colab_type": "text",
    "id": "_K5MVv2Krmgf"
   },
   "source": [
    "#### 2) Modified LeNet"
   ]
  },
  {
   "cell_type": "code",
   "execution_count": 51,
   "metadata": {
    "colab": {
     "base_uri": "https://localhost:8080/",
     "height": 420
    },
    "colab_type": "code",
    "executionInfo": {
     "elapsed": 1424,
     "status": "ok",
     "timestamp": 1588165783986,
     "user": {
      "displayName": "google colab",
      "photoUrl": "",
      "userId": "06439635405616390316"
     },
     "user_tz": -330
    },
    "id": "tB1OZpfnrmgg",
    "outputId": "eb0f6f34-8330-4a6c-a7e7-8bee0292f774"
   },
   "outputs": [
    {
     "name": "stdout",
     "output_type": "stream",
     "text": [
      "Model: \"sequential_2\"\n",
      "_________________________________________________________________\n",
      "Layer (type)                 Output Shape              Param #   \n",
      "=================================================================\n",
      "conv2d_4 (Conv2D)            (None, 24, 24, 6)         156       \n",
      "_________________________________________________________________\n",
      "max_pooling2d_1 (MaxPooling2 (None, 12, 12, 6)         0         \n",
      "_________________________________________________________________\n",
      "conv2d_5 (Conv2D)            (None, 8, 8, 16)          2416      \n",
      "_________________________________________________________________\n",
      "max_pooling2d_2 (MaxPooling2 (None, 4, 4, 16)          0         \n",
      "_________________________________________________________________\n",
      "flatten_2 (Flatten)          (None, 256)               0         \n",
      "_________________________________________________________________\n",
      "dense_3 (Dense)              (None, 120)               30840     \n",
      "_________________________________________________________________\n",
      "dense_4 (Dense)              (None, 84)                10164     \n",
      "_________________________________________________________________\n",
      "dense_5 (Dense)              (None, 10)                850       \n",
      "=================================================================\n",
      "Total params: 44,426\n",
      "Trainable params: 44,426\n",
      "Non-trainable params: 0\n",
      "_________________________________________________________________\n"
     ]
    }
   ],
   "source": [
    "########### Creating sequential model of Modified LeNet ##########################\n",
    "model2=Sequential()\n",
    "model2.add(Conv2D(6,kernel_size=(5,5),activation='relu',input_shape=(28,28,1)))\n",
    "model2.add(MaxPooling2D())\n",
    "model2.add(Conv2D(16,kernel_size=(5,5),activation='relu'))\n",
    "model2.add(MaxPooling2D())\n",
    "model2.add(Flatten())\n",
    "model2.add(Dense(120,activation='relu'))\n",
    "model2.add(Dense(84,activation='relu'))\n",
    "model2.add(Dense(classes,activation='softmax'))\n",
    "opt = Adam()\n",
    "model2.compile(optimizer=opt,loss=categorical_crossentropy,metrics=['accuracy'])\n",
    "model2.summary()"
   ]
  },
  {
   "cell_type": "code",
   "execution_count": 52,
   "metadata": {
    "colab": {
     "base_uri": "https://localhost:8080/",
     "height": 202
    },
    "colab_type": "code",
    "executionInfo": {
     "elapsed": 22898,
     "status": "ok",
     "timestamp": 1588165862627,
     "user": {
      "displayName": "google colab",
      "photoUrl": "",
      "userId": "06439635405616390316"
     },
     "user_tz": -330
    },
    "id": "44BHy3wWrmgk",
    "outputId": "878bb031-0bcb-45ae-dd9e-b26f1532b9e4"
   },
   "outputs": [
    {
     "name": "stdout",
     "output_type": "stream",
     "text": [
      "Train on 60000 samples, validate on 10000 samples\n",
      "Epoch 1/10\n",
      "Epoch 2/10\n",
      "Epoch 3/10\n",
      "Epoch 4/10\n",
      "Epoch 5/10\n",
      "Epoch 6/10\n",
      "Epoch 7/10\n",
      "Epoch 8/10\n",
      "Epoch 9/10\n",
      "Epoch 10/10\n"
     ]
    }
   ],
   "source": [
    "history2=model2.fit(X_train,y_train,batch_size=128,epochs=10,validation_data=(X_test, y_test),verbose=3)"
   ]
  },
  {
   "cell_type": "code",
   "execution_count": 53,
   "metadata": {
    "colab": {
     "base_uri": "https://localhost:8080/",
     "height": 67
    },
    "colab_type": "code",
    "executionInfo": {
     "elapsed": 1743,
     "status": "ok",
     "timestamp": 1588165865963,
     "user": {
      "displayName": "google colab",
      "photoUrl": "",
      "userId": "06439635405616390316"
     },
     "user_tz": -330
    },
    "id": "gTBVbGNxrmgo",
    "outputId": "da1da6e8-d534-4303-df50-ccf0053fe9cb"
   },
   "outputs": [
    {
     "name": "stdout",
     "output_type": "stream",
     "text": [
      "10000/10000 [==============================] - 1s 56us/step\n",
      "Test Loss: 0.03763265782278213\n",
      "Test accuracy: 0.988099992275238\n"
     ]
    }
   ],
   "source": [
    "score2 = model2.evaluate(X_test, y_test)\n",
    "print('Test Loss:', score2[0])\n",
    "print('Test accuracy:', score2[1])"
   ]
  },
  {
   "cell_type": "code",
   "execution_count": 54,
   "metadata": {
    "colab": {
     "base_uri": "https://localhost:8080/",
     "height": 350
    },
    "colab_type": "code",
    "executionInfo": {
     "elapsed": 1629,
     "status": "ok",
     "timestamp": 1588165904406,
     "user": {
      "displayName": "google colab",
      "photoUrl": "",
      "userId": "06439635405616390316"
     },
     "user_tz": -330
    },
    "id": "x1lOTlDKEBee",
    "outputId": "af55141c-84ab-4c33-8882-1923a4c4508b"
   },
   "outputs": [
    {
     "data": {
      "image/png": "[encoded data removed]",
      "text/plain": [
       "<Figure size 720x360 with 2 Axes>"
      ]
     },
     "metadata": {
      "needs_background": "light",
      "tags": []
     },
     "output_type": "display_data"
    }
   ],
   "source": [
    "plot_accuracy_loss(history2)"
   ]
  },
  {
   "cell_type": "markdown",
   "metadata": {
    "colab_type": "text",
    "id": "oD1wfKA3FGXQ"
   },
   "source": [
    "**Comparision Of LeNet architecture accuracy and loss**"
   ]
  },
  {
   "cell_type": "code",
   "execution_count": 70,
   "metadata": {
    "colab": {
     "base_uri": "https://localhost:8080/",
     "height": 318
    },
    "colab_type": "code",
    "executionInfo": {
     "elapsed": 1699,
     "status": "ok",
     "timestamp": 1588167027951,
     "user": {
      "displayName": "google colab",
      "photoUrl": "",
      "userId": "06439635405616390316"
     },
     "user_tz": -330
    },
    "id": "8yHaC_5JFRmM",
    "outputId": "926a4056-7333-4e86-ac3f-697474a855d1"
   },
   "outputs": [
    {
     "name": "stdout",
     "output_type": "stream",
     "text": [
      "Accuracy improvement in model2 is 0.961438% as compared to model1\n"
     ]
    },
    {
     "data": {
      "image/png": "[encoded data removed]",
      "text/plain": [
       "<Figure size 432x288 with 1 Axes>"
      ]
     },
     "metadata": {
      "tags": []
     },
     "output_type": "display_data"
    }
   ],
   "source": [
    "import seaborn as sns\n",
    "sns.set()\n",
    "plt.bar(['Model1','Model2'],[score[1],score2[1]])\n",
    "plt.ylim([0.9, 1])\n",
    "plt.title('Model accuracy')\n",
    "plt.ylabel('Accuracy')\n",
    "plt.xlabel('LeNet Architecture')\n",
    "print(\"Accuracy improvement in model2 is {:2f}% as compared to model1\".format(((score2[1]-score[1])/score2[1])*100))"
   ]
  },
  {
   "cell_type": "code",
   "execution_count": 71,
   "metadata": {
    "colab": {
     "base_uri": "https://localhost:8080/",
     "height": 318
    },
    "colab_type": "code",
    "executionInfo": {
     "elapsed": 1591,
     "status": "ok",
     "timestamp": 1588167034916,
     "user": {
      "displayName": "google colab",
      "photoUrl": "",
      "userId": "06439635405616390316"
     },
     "user_tz": -330
    },
    "id": "nY-z9lcdF25E",
    "outputId": "0c0e24e5-569a-4f21-f0f2-dc4af195b53b"
   },
   "outputs": [
    {
     "name": "stdout",
     "output_type": "stream",
     "text": [
      "Loss reduction in model2 is 50.745887% as compared to model1\n"
     ]
    },
    {
     "data": {
      "image/png": "[encoded data removed]",
      "text/plain": [
       "<Figure size 432x288 with 1 Axes>"
      ]
     },
     "metadata": {
      "tags": []
     },
     "output_type": "display_data"
    }
   ],
   "source": [
    "plt.bar(['Model1','Model2'],[score[0],score2[0]])\n",
    "# plt.ylim([0.9, 1])\n",
    "plt.title('Model loss')\n",
    "plt.ylabel('Loss')\n",
    "plt.xlabel('LeNet Architecture')\n",
    "print(\"Loss reduction in model2 is {:2f}% as compared to model1\".format(((score[0]-score2[0])/score[0])*100))"
   ]
  },
  {
   "cell_type": "code",
   "execution_count": 0,
   "metadata": {
    "colab": {},
    "colab_type": "code",
    "id": "_iDeWw2uIIjc"
   },
   "outputs": [],
   "source": []
  }
 ],
 "metadata": {
  "accelerator": "GPU",
  "colab": {
   "collapsed_sections": [],
   "name": "LeNet_Practise.ipynb",
   "provenance": [],
   "toc_visible": true
  },
  "kernelspec": {
   "display_name": "Python 3",
   "language": "python",
   "name": "python3"
  },
  "language_info": {
   "codemirror_mode": {
    "name": "ipython",
    "version": 3
   },
   "file_extension": ".py",
   "mimetype": "text/x-python",
   "name": "python",
   "nbconvert_exporter": "python",
   "pygments_lexer": "ipython3",
   "version": "3.6.5"
  }
 },
 "nbformat": 4,
 "nbformat_minor": 1
}
